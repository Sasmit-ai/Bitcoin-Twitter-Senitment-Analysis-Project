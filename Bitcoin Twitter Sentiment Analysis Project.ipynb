{
 "cells": [
  {
   "cell_type": "markdown",
   "source": [
    "## Import"
   ],
   "metadata": {
    "collapsed": false
   }
  },
  {
   "cell_type": "code",
   "execution_count": 4,
   "metadata": {
    "collapsed": true
   },
   "outputs": [],
   "source": [
    "import pandas as pd\n",
    "import re\n",
    "from matplotlib import pyplot\n",
    "import seaborn as sns\n",
    "import numpy as np\n",
    "\n",
    "np.random.seed(843923)"
   ]
  },
  {
   "cell_type": "markdown",
   "source": [
    "## Load File\n"
   ],
   "metadata": {
    "collapsed": false
   }
  },
  {
   "cell_type": "code",
   "execution_count": 6,
   "outputs": [
    {
     "name": "stderr",
     "output_type": "stream",
     "text": [
      "<ipython-input-6-3b25e9967bd0>:1: FutureWarning: The error_bad_lines argument has been deprecated and will be removed in a future version. Use on_bad_lines in the future.\n",
      "\n",
      "\n",
      "  tweet_feed = pd.read_csv('Dataset/cleanprep.csv', delimiter=',', error_bad_lines=False,engine = 'python', header = None)\n"
     ]
    }
   ],
   "source": [
    "tweet_feed = pd.read_csv('Dataset/cleanprep.csv', delimiter=',', error_bad_lines=False,engine = 'python', header = None)"
   ],
   "metadata": {
    "collapsed": false,
    "pycharm": {
     "name": "#%%\n"
    }
   }
  },
  {
   "cell_type": "code",
   "execution_count": 7,
   "outputs": [
    {
     "data": {
      "text/plain": "                            0                   1  \\\n0  2018-07-11 19:35:15.363270               b'tj'   \n1  2018-07-11 19:35:15.736769      b'Kool_Kheart'   \n2  2018-07-11 19:35:15.744769        b'Gary Lang'   \n3  2018-07-11 19:35:15.867339  b'Jobs in Fintech'   \n4  2018-07-11 19:35:16.021448            b'ERC20'   \n\n                                                   2         3         4  \n0  b\"Next two weeks prob v boring (climb up to 9k...  0.007273  0.590909  \n1  b'@Miss_rinola But you\\xe2\\x80\\x99ve heard abo...  0.000000  0.000000  \n2  b'Duplicate skilled traders automatically with...  0.625000  0.500000  \n3  b'Project Manager - Technical - FinTech - Cent...  0.000000  0.175000  \n4  b'Coinbase App Downloads Drop, Crypto Hype Fad...  0.333333  0.500000  ",
      "text/html": "<div>\n<style scoped>\n    .dataframe tbody tr th:only-of-type {\n        vertical-align: middle;\n    }\n\n    .dataframe tbody tr th {\n        vertical-align: top;\n    }\n\n    .dataframe thead th {\n        text-align: right;\n    }\n</style>\n<table border=\"1\" class=\"dataframe\">\n  <thead>\n    <tr style=\"text-align: right;\">\n      <th></th>\n      <th>0</th>\n      <th>1</th>\n      <th>2</th>\n      <th>3</th>\n      <th>4</th>\n    </tr>\n  </thead>\n  <tbody>\n    <tr>\n      <th>0</th>\n      <td>2018-07-11 19:35:15.363270</td>\n      <td>b'tj'</td>\n      <td>b\"Next two weeks prob v boring (climb up to 9k...</td>\n      <td>0.007273</td>\n      <td>0.590909</td>\n    </tr>\n    <tr>\n      <th>1</th>\n      <td>2018-07-11 19:35:15.736769</td>\n      <td>b'Kool_Kheart'</td>\n      <td>b'@Miss_rinola But you\\xe2\\x80\\x99ve heard abo...</td>\n      <td>0.000000</td>\n      <td>0.000000</td>\n    </tr>\n    <tr>\n      <th>2</th>\n      <td>2018-07-11 19:35:15.744769</td>\n      <td>b'Gary Lang'</td>\n      <td>b'Duplicate skilled traders automatically with...</td>\n      <td>0.625000</td>\n      <td>0.500000</td>\n    </tr>\n    <tr>\n      <th>3</th>\n      <td>2018-07-11 19:35:15.867339</td>\n      <td>b'Jobs in Fintech'</td>\n      <td>b'Project Manager - Technical - FinTech - Cent...</td>\n      <td>0.000000</td>\n      <td>0.175000</td>\n    </tr>\n    <tr>\n      <th>4</th>\n      <td>2018-07-11 19:35:16.021448</td>\n      <td>b'ERC20'</td>\n      <td>b'Coinbase App Downloads Drop, Crypto Hype Fad...</td>\n      <td>0.333333</td>\n      <td>0.500000</td>\n    </tr>\n  </tbody>\n</table>\n</div>"
     },
     "execution_count": 7,
     "metadata": {},
     "output_type": "execute_result"
    }
   ],
   "source": [
    "tweet_feed.head()"
   ],
   "metadata": {
    "collapsed": false,
    "pycharm": {
     "name": "#%%\n"
    }
   }
  },
  {
   "cell_type": "markdown",
   "source": [
    "## Preprocessing"
   ],
   "metadata": {
    "collapsed": false
   }
  },
  {
   "cell_type": "code",
   "execution_count": 8,
   "outputs": [],
   "source": [
    "tweet_feed.columns =['dt', 'name','text','polarity','sensitivity']"
   ],
   "metadata": {
    "collapsed": false,
    "pycharm": {
     "name": "#%%\n"
    }
   }
  },
  {
   "cell_type": "code",
   "execution_count": 9,
   "outputs": [
    {
     "data": {
      "text/plain": "                                 dt                         name  \\\n0        2018-07-11 19:35:15.363270                        b'tj'   \n1        2018-07-11 19:35:15.736769               b'Kool_Kheart'   \n2        2018-07-11 19:35:15.744769                 b'Gary Lang'   \n3        2018-07-11 19:35:15.867339           b'Jobs in Fintech'   \n4        2018-07-11 19:35:16.021448                     b'ERC20'   \n...                             ...                          ...   \n1412996  2018-07-24 08:17:01.654579                 b'duong dao'   \n1412997  2018-07-24 08:17:02.342093                  b'Ali Mohd'   \n1412998  2018-07-24 08:17:02.951448             b'Gilles Cottyn'   \n1412999  2018-07-24 08:17:03.388879  b'Mr. Jackson \\xe2\\x98\\xaf'   \n1413000  2018-07-24 08:17:03.576424         b'Crypto Trader Pro'   \n\n                                                      text  polarity  \\\n0        b\"Next two weeks prob v boring (climb up to 9k...  0.007273   \n1        b'@Miss_rinola But you\\xe2\\x80\\x99ve heard abo...  0.000000   \n2        b'Duplicate skilled traders automatically with...  0.625000   \n3        b'Project Manager - Technical - FinTech - Cent...  0.000000   \n4        b'Coinbase App Downloads Drop, Crypto Hype Fad...  0.333333   \n...                                                    ...       ...   \n1412996          b'#BlockBuratino https://t.co/bdlyjnIqZC'  0.000000   \n1412997  b'Cointelegraph: #CT_index Provided by Cointel...  0.000000   \n1412998  b'Congrats @Bitcoin for reaching $ 8k again \\x...  0.000000   \n1412999  b'BTC wants to breakout again this morning and...  0.200000   \n1413000  b'via \\xe2\\x86\\x92 https://t.co/4sRUrToww3 BTC...  0.433333   \n\n         sensitivity  \n0           0.590909  \n1           0.000000  \n2           0.500000  \n3           0.175000  \n4           0.500000  \n...              ...  \n1412996     0.000000  \n1412997     0.000000  \n1412998     0.000000  \n1412999     0.100000  \n1413000     0.733333  \n\n[1413001 rows x 5 columns]",
      "text/html": "<div>\n<style scoped>\n    .dataframe tbody tr th:only-of-type {\n        vertical-align: middle;\n    }\n\n    .dataframe tbody tr th {\n        vertical-align: top;\n    }\n\n    .dataframe thead th {\n        text-align: right;\n    }\n</style>\n<table border=\"1\" class=\"dataframe\">\n  <thead>\n    <tr style=\"text-align: right;\">\n      <th></th>\n      <th>dt</th>\n      <th>name</th>\n      <th>text</th>\n      <th>polarity</th>\n      <th>sensitivity</th>\n    </tr>\n  </thead>\n  <tbody>\n    <tr>\n      <th>0</th>\n      <td>2018-07-11 19:35:15.363270</td>\n      <td>b'tj'</td>\n      <td>b\"Next two weeks prob v boring (climb up to 9k...</td>\n      <td>0.007273</td>\n      <td>0.590909</td>\n    </tr>\n    <tr>\n      <th>1</th>\n      <td>2018-07-11 19:35:15.736769</td>\n      <td>b'Kool_Kheart'</td>\n      <td>b'@Miss_rinola But you\\xe2\\x80\\x99ve heard abo...</td>\n      <td>0.000000</td>\n      <td>0.000000</td>\n    </tr>\n    <tr>\n      <th>2</th>\n      <td>2018-07-11 19:35:15.744769</td>\n      <td>b'Gary Lang'</td>\n      <td>b'Duplicate skilled traders automatically with...</td>\n      <td>0.625000</td>\n      <td>0.500000</td>\n    </tr>\n    <tr>\n      <th>3</th>\n      <td>2018-07-11 19:35:15.867339</td>\n      <td>b'Jobs in Fintech'</td>\n      <td>b'Project Manager - Technical - FinTech - Cent...</td>\n      <td>0.000000</td>\n      <td>0.175000</td>\n    </tr>\n    <tr>\n      <th>4</th>\n      <td>2018-07-11 19:35:16.021448</td>\n      <td>b'ERC20'</td>\n      <td>b'Coinbase App Downloads Drop, Crypto Hype Fad...</td>\n      <td>0.333333</td>\n      <td>0.500000</td>\n    </tr>\n    <tr>\n      <th>...</th>\n      <td>...</td>\n      <td>...</td>\n      <td>...</td>\n      <td>...</td>\n      <td>...</td>\n    </tr>\n    <tr>\n      <th>1412996</th>\n      <td>2018-07-24 08:17:01.654579</td>\n      <td>b'duong dao'</td>\n      <td>b'#BlockBuratino https://t.co/bdlyjnIqZC'</td>\n      <td>0.000000</td>\n      <td>0.000000</td>\n    </tr>\n    <tr>\n      <th>1412997</th>\n      <td>2018-07-24 08:17:02.342093</td>\n      <td>b'Ali Mohd'</td>\n      <td>b'Cointelegraph: #CT_index Provided by Cointel...</td>\n      <td>0.000000</td>\n      <td>0.000000</td>\n    </tr>\n    <tr>\n      <th>1412998</th>\n      <td>2018-07-24 08:17:02.951448</td>\n      <td>b'Gilles Cottyn'</td>\n      <td>b'Congrats @Bitcoin for reaching $ 8k again \\x...</td>\n      <td>0.000000</td>\n      <td>0.000000</td>\n    </tr>\n    <tr>\n      <th>1412999</th>\n      <td>2018-07-24 08:17:03.388879</td>\n      <td>b'Mr. Jackson \\xe2\\x98\\xaf'</td>\n      <td>b'BTC wants to breakout again this morning and...</td>\n      <td>0.200000</td>\n      <td>0.100000</td>\n    </tr>\n    <tr>\n      <th>1413000</th>\n      <td>2018-07-24 08:17:03.576424</td>\n      <td>b'Crypto Trader Pro'</td>\n      <td>b'via \\xe2\\x86\\x92 https://t.co/4sRUrToww3 BTC...</td>\n      <td>0.433333</td>\n      <td>0.733333</td>\n    </tr>\n  </tbody>\n</table>\n<p>1413001 rows × 5 columns</p>\n</div>"
     },
     "execution_count": 9,
     "metadata": {},
     "output_type": "execute_result"
    }
   ],
   "source": [
    "tweet_feed"
   ],
   "metadata": {
    "collapsed": false,
    "pycharm": {
     "name": "#%%\n"
    }
   }
  },
  {
   "cell_type": "code",
   "execution_count": 11,
   "outputs": [],
   "source": [
    "tweet_feed =tweet_feed.drop(['name','text'], axis=1)"
   ],
   "metadata": {
    "collapsed": false,
    "pycharm": {
     "name": "#%%\n"
    }
   }
  },
  {
   "cell_type": "code",
   "execution_count": 12,
   "outputs": [
    {
     "data": {
      "text/plain": "                           dt  polarity  sensitivity\n0  2018-07-11 19:35:15.363270  0.007273     0.590909\n1  2018-07-11 19:35:15.736769  0.000000     0.000000\n2  2018-07-11 19:35:15.744769  0.625000     0.500000\n3  2018-07-11 19:35:15.867339  0.000000     0.175000\n4  2018-07-11 19:35:16.021448  0.333333     0.500000",
      "text/html": "<div>\n<style scoped>\n    .dataframe tbody tr th:only-of-type {\n        vertical-align: middle;\n    }\n\n    .dataframe tbody tr th {\n        vertical-align: top;\n    }\n\n    .dataframe thead th {\n        text-align: right;\n    }\n</style>\n<table border=\"1\" class=\"dataframe\">\n  <thead>\n    <tr style=\"text-align: right;\">\n      <th></th>\n      <th>dt</th>\n      <th>polarity</th>\n      <th>sensitivity</th>\n    </tr>\n  </thead>\n  <tbody>\n    <tr>\n      <th>0</th>\n      <td>2018-07-11 19:35:15.363270</td>\n      <td>0.007273</td>\n      <td>0.590909</td>\n    </tr>\n    <tr>\n      <th>1</th>\n      <td>2018-07-11 19:35:15.736769</td>\n      <td>0.000000</td>\n      <td>0.000000</td>\n    </tr>\n    <tr>\n      <th>2</th>\n      <td>2018-07-11 19:35:15.744769</td>\n      <td>0.625000</td>\n      <td>0.500000</td>\n    </tr>\n    <tr>\n      <th>3</th>\n      <td>2018-07-11 19:35:15.867339</td>\n      <td>0.000000</td>\n      <td>0.175000</td>\n    </tr>\n    <tr>\n      <th>4</th>\n      <td>2018-07-11 19:35:16.021448</td>\n      <td>0.333333</td>\n      <td>0.500000</td>\n    </tr>\n  </tbody>\n</table>\n</div>"
     },
     "execution_count": 12,
     "metadata": {},
     "output_type": "execute_result"
    }
   ],
   "source": [
    "tweet_feed.head()"
   ],
   "metadata": {
    "collapsed": false,
    "pycharm": {
     "name": "#%%\n"
    }
   }
  },
  {
   "cell_type": "code",
   "execution_count": 13,
   "outputs": [
    {
     "name": "stdout",
     "output_type": "stream",
     "text": [
      "<class 'pandas.core.frame.DataFrame'>\n",
      "RangeIndex: 1413001 entries, 0 to 1413000\n",
      "Data columns (total 3 columns):\n",
      " #   Column       Non-Null Count    Dtype  \n",
      "---  ------       --------------    -----  \n",
      " 0   dt           1413001 non-null  object \n",
      " 1   polarity     1413001 non-null  float64\n",
      " 2   sensitivity  1413001 non-null  float64\n",
      "dtypes: float64(2), object(1)\n",
      "memory usage: 32.3+ MB\n"
     ]
    }
   ],
   "source": [
    "tweet_feed.info()"
   ],
   "metadata": {
    "collapsed": false,
    "pycharm": {
     "name": "#%%\n"
    }
   }
  },
  {
   "cell_type": "code",
   "execution_count": 14,
   "outputs": [],
   "source": [
    "tweet_feed['dt'] = pd.to_datetime(tweet_feed['dt'])"
   ],
   "metadata": {
    "collapsed": false,
    "pycharm": {
     "name": "#%%\n"
    }
   }
  },
  {
   "cell_type": "code",
   "execution_count": 15,
   "outputs": [
    {
     "data": {
      "text/plain": "                          dt  polarity  sensitivity            DateTime\n0 2018-07-11 19:35:15.363270  0.007273     0.590909 2018-07-11 19:00:00\n1 2018-07-11 19:35:15.736769  0.000000     0.000000 2018-07-11 19:00:00\n2 2018-07-11 19:35:15.744769  0.625000     0.500000 2018-07-11 19:00:00\n3 2018-07-11 19:35:15.867339  0.000000     0.175000 2018-07-11 19:00:00\n4 2018-07-11 19:35:16.021448  0.333333     0.500000 2018-07-11 19:00:00",
      "text/html": "<div>\n<style scoped>\n    .dataframe tbody tr th:only-of-type {\n        vertical-align: middle;\n    }\n\n    .dataframe tbody tr th {\n        vertical-align: top;\n    }\n\n    .dataframe thead th {\n        text-align: right;\n    }\n</style>\n<table border=\"1\" class=\"dataframe\">\n  <thead>\n    <tr style=\"text-align: right;\">\n      <th></th>\n      <th>dt</th>\n      <th>polarity</th>\n      <th>sensitivity</th>\n      <th>DateTime</th>\n    </tr>\n  </thead>\n  <tbody>\n    <tr>\n      <th>0</th>\n      <td>2018-07-11 19:35:15.363270</td>\n      <td>0.007273</td>\n      <td>0.590909</td>\n      <td>2018-07-11 19:00:00</td>\n    </tr>\n    <tr>\n      <th>1</th>\n      <td>2018-07-11 19:35:15.736769</td>\n      <td>0.000000</td>\n      <td>0.000000</td>\n      <td>2018-07-11 19:00:00</td>\n    </tr>\n    <tr>\n      <th>2</th>\n      <td>2018-07-11 19:35:15.744769</td>\n      <td>0.625000</td>\n      <td>0.500000</td>\n      <td>2018-07-11 19:00:00</td>\n    </tr>\n    <tr>\n      <th>3</th>\n      <td>2018-07-11 19:35:15.867339</td>\n      <td>0.000000</td>\n      <td>0.175000</td>\n      <td>2018-07-11 19:00:00</td>\n    </tr>\n    <tr>\n      <th>4</th>\n      <td>2018-07-11 19:35:16.021448</td>\n      <td>0.333333</td>\n      <td>0.500000</td>\n      <td>2018-07-11 19:00:00</td>\n    </tr>\n  </tbody>\n</table>\n</div>"
     },
     "execution_count": 15,
     "metadata": {},
     "output_type": "execute_result"
    }
   ],
   "source": [
    "tweet_feed['DateTime'] = tweet_feed['dt'].dt.floor('h')\n",
    "tweet_feed.head()"
   ],
   "metadata": {
    "collapsed": false,
    "pycharm": {
     "name": "#%%\n"
    }
   }
  },
  {
   "cell_type": "code",
   "execution_count": 16,
   "outputs": [],
   "source": [
    "tweet_feed_hour = tweet_feed.groupby(pd.Grouper(key='dt' ,freq='H')).size().reset_index(name='tweet_vol')"
   ],
   "metadata": {
    "collapsed": false,
    "pycharm": {
     "name": "#%%\n"
    }
   }
  },
  {
   "cell_type": "code",
   "execution_count": 17,
   "outputs": [
    {
     "data": {
      "text/plain": "                   dt  tweet_vol\n0 2018-07-11 19:00:00       1747\n1 2018-07-11 20:00:00       4354\n2 2018-07-11 21:00:00       4432\n3 2018-07-11 22:00:00       3980\n4 2018-07-11 23:00:00       3830",
      "text/html": "<div>\n<style scoped>\n    .dataframe tbody tr th:only-of-type {\n        vertical-align: middle;\n    }\n\n    .dataframe tbody tr th {\n        vertical-align: top;\n    }\n\n    .dataframe thead th {\n        text-align: right;\n    }\n</style>\n<table border=\"1\" class=\"dataframe\">\n  <thead>\n    <tr style=\"text-align: right;\">\n      <th></th>\n      <th>dt</th>\n      <th>tweet_vol</th>\n    </tr>\n  </thead>\n  <tbody>\n    <tr>\n      <th>0</th>\n      <td>2018-07-11 19:00:00</td>\n      <td>1747</td>\n    </tr>\n    <tr>\n      <th>1</th>\n      <td>2018-07-11 20:00:00</td>\n      <td>4354</td>\n    </tr>\n    <tr>\n      <th>2</th>\n      <td>2018-07-11 21:00:00</td>\n      <td>4432</td>\n    </tr>\n    <tr>\n      <th>3</th>\n      <td>2018-07-11 22:00:00</td>\n      <td>3980</td>\n    </tr>\n    <tr>\n      <th>4</th>\n      <td>2018-07-11 23:00:00</td>\n      <td>3830</td>\n    </tr>\n  </tbody>\n</table>\n</div>"
     },
     "execution_count": 17,
     "metadata": {},
     "output_type": "execute_result"
    }
   ],
   "source": [
    "tweet_feed_hour.head()"
   ],
   "metadata": {
    "collapsed": false,
    "pycharm": {
     "name": "#%%\n"
    }
   }
  },
  {
   "cell_type": "code",
   "execution_count": 18,
   "outputs": [
    {
     "name": "stdout",
     "output_type": "stream",
     "text": [
      "<class 'pandas.core.frame.DataFrame'>\n",
      "RangeIndex: 302 entries, 0 to 301\n",
      "Data columns (total 2 columns):\n",
      " #   Column     Non-Null Count  Dtype         \n",
      "---  ------     --------------  -----         \n",
      " 0   dt         302 non-null    datetime64[ns]\n",
      " 1   tweet_vol  302 non-null    int64         \n",
      "dtypes: datetime64[ns](1), int64(1)\n",
      "memory usage: 4.8 KB\n"
     ]
    }
   ],
   "source": [
    "tweet_feed_hour.info()"
   ],
   "metadata": {
    "collapsed": false,
    "pycharm": {
     "name": "#%%\n"
    }
   }
  },
  {
   "cell_type": "code",
   "execution_count": 19,
   "outputs": [],
   "source": [
    "tweet_feed_hour.index = pd.to_datetime(tweet_feed_hour.index)\n",
    "tweet_feed_hour = tweet_feed_hour.set_index('dt')"
   ],
   "metadata": {
    "collapsed": false,
    "pycharm": {
     "name": "#%%\n"
    }
   }
  },
  {
   "cell_type": "code",
   "execution_count": 20,
   "outputs": [
    {
     "data": {
      "text/plain": "                     tweet_vol\ndt                            \n2018-07-11 19:00:00       1747\n2018-07-11 20:00:00       4354\n2018-07-11 21:00:00       4432\n2018-07-11 22:00:00       3980\n2018-07-11 23:00:00       3830",
      "text/html": "<div>\n<style scoped>\n    .dataframe tbody tr th:only-of-type {\n        vertical-align: middle;\n    }\n\n    .dataframe tbody tr th {\n        vertical-align: top;\n    }\n\n    .dataframe thead th {\n        text-align: right;\n    }\n</style>\n<table border=\"1\" class=\"dataframe\">\n  <thead>\n    <tr style=\"text-align: right;\">\n      <th></th>\n      <th>tweet_vol</th>\n    </tr>\n    <tr>\n      <th>dt</th>\n      <th></th>\n    </tr>\n  </thead>\n  <tbody>\n    <tr>\n      <th>2018-07-11 19:00:00</th>\n      <td>1747</td>\n    </tr>\n    <tr>\n      <th>2018-07-11 20:00:00</th>\n      <td>4354</td>\n    </tr>\n    <tr>\n      <th>2018-07-11 21:00:00</th>\n      <td>4432</td>\n    </tr>\n    <tr>\n      <th>2018-07-11 22:00:00</th>\n      <td>3980</td>\n    </tr>\n    <tr>\n      <th>2018-07-11 23:00:00</th>\n      <td>3830</td>\n    </tr>\n  </tbody>\n</table>\n</div>"
     },
     "execution_count": 20,
     "metadata": {},
     "output_type": "execute_result"
    }
   ],
   "source": [
    "tweet_feed_hour.head()"
   ],
   "metadata": {
    "collapsed": false,
    "pycharm": {
     "name": "#%%\n"
    }
   }
  },
  {
   "cell_type": "code",
   "execution_count": 21,
   "outputs": [],
   "source": [
    "tweet_feed_hour.index = pd.to_datetime(tweet_feed_hour.index)"
   ],
   "metadata": {
    "collapsed": false,
    "pycharm": {
     "name": "#%%\n"
    }
   }
  },
  {
   "cell_type": "code",
   "execution_count": 22,
   "outputs": [],
   "source": [
    "tweet_feed_hour['tweet_vol'] = tweet_feed_hour['tweet_vol'].astype(float)"
   ],
   "metadata": {
    "collapsed": false,
    "pycharm": {
     "name": "#%%\n"
    }
   }
  },
  {
   "cell_type": "code",
   "execution_count": 23,
   "outputs": [],
   "source": [
    "tweet_df = tweet_feed.groupby('DateTime').agg(lambda  x: x.mean())"
   ],
   "metadata": {
    "collapsed": false,
    "pycharm": {
     "name": "#%%\n"
    }
   }
  },
  {
   "cell_type": "code",
   "execution_count": 24,
   "outputs": [],
   "source": [
    "tweet_df['Tweet_vol'] = tweet_feed_hour['tweet_vol']"
   ],
   "metadata": {
    "collapsed": false,
    "pycharm": {
     "name": "#%%\n"
    }
   }
  },
  {
   "cell_type": "code",
   "execution_count": 25,
   "outputs": [
    {
     "data": {
      "text/plain": "                                               dt  polarity  sensitivity  \\\nDateTime                                                                   \n2018-07-11 20:00:00 2018-07-11 20:27:49.510636288  0.102657     0.216148   \n2018-07-11 21:00:00 2018-07-11 21:28:35.636368640  0.098004     0.218612   \n2018-07-11 22:00:00 2018-07-11 22:27:44.646705152  0.096688     0.231342   \n2018-07-11 23:00:00 2018-07-11 23:28:06.455850496  0.103997     0.217739   \n2018-07-12 00:00:00 2018-07-12 00:28:47.975385344  0.094383     0.195256   \n\n                     Tweet_vol  \nDateTime                        \n2018-07-11 20:00:00     4354.0  \n2018-07-11 21:00:00     4432.0  \n2018-07-11 22:00:00     3980.0  \n2018-07-11 23:00:00     3830.0  \n2018-07-12 00:00:00     3998.0  ",
      "text/html": "<div>\n<style scoped>\n    .dataframe tbody tr th:only-of-type {\n        vertical-align: middle;\n    }\n\n    .dataframe tbody tr th {\n        vertical-align: top;\n    }\n\n    .dataframe thead th {\n        text-align: right;\n    }\n</style>\n<table border=\"1\" class=\"dataframe\">\n  <thead>\n    <tr style=\"text-align: right;\">\n      <th></th>\n      <th>dt</th>\n      <th>polarity</th>\n      <th>sensitivity</th>\n      <th>Tweet_vol</th>\n    </tr>\n    <tr>\n      <th>DateTime</th>\n      <th></th>\n      <th></th>\n      <th></th>\n      <th></th>\n    </tr>\n  </thead>\n  <tbody>\n    <tr>\n      <th>2018-07-11 20:00:00</th>\n      <td>2018-07-11 20:27:49.510636288</td>\n      <td>0.102657</td>\n      <td>0.216148</td>\n      <td>4354.0</td>\n    </tr>\n    <tr>\n      <th>2018-07-11 21:00:00</th>\n      <td>2018-07-11 21:28:35.636368640</td>\n      <td>0.098004</td>\n      <td>0.218612</td>\n      <td>4432.0</td>\n    </tr>\n    <tr>\n      <th>2018-07-11 22:00:00</th>\n      <td>2018-07-11 22:27:44.646705152</td>\n      <td>0.096688</td>\n      <td>0.231342</td>\n      <td>3980.0</td>\n    </tr>\n    <tr>\n      <th>2018-07-11 23:00:00</th>\n      <td>2018-07-11 23:28:06.455850496</td>\n      <td>0.103997</td>\n      <td>0.217739</td>\n      <td>3830.0</td>\n    </tr>\n    <tr>\n      <th>2018-07-12 00:00:00</th>\n      <td>2018-07-12 00:28:47.975385344</td>\n      <td>0.094383</td>\n      <td>0.195256</td>\n      <td>3998.0</td>\n    </tr>\n  </tbody>\n</table>\n</div>"
     },
     "execution_count": 25,
     "metadata": {},
     "output_type": "execute_result"
    }
   ],
   "source": [
    "tweet_df = tweet_df.drop(tweet_df.index[0])\n",
    "tweet_df.head()"
   ],
   "metadata": {
    "collapsed": false,
    "pycharm": {
     "name": "#%%\n"
    }
   }
  },
  {
   "cell_type": "code",
   "execution_count": 26,
   "outputs": [],
   "source": [
    "tweet_df = tweet_df.drop(['dt'], axis=1)"
   ],
   "metadata": {
    "collapsed": false,
    "pycharm": {
     "name": "#%%\n"
    }
   }
  },
  {
   "cell_type": "code",
   "execution_count": 27,
   "outputs": [
    {
     "data": {
      "text/plain": "                     polarity  sensitivity  Tweet_vol\nDateTime                                             \n2018-07-24 04:00:00  0.121358     0.236000     4475.0\n2018-07-24 05:00:00  0.095163     0.216924     4808.0\n2018-07-24 06:00:00  0.088992     0.220173     6036.0\n2018-07-24 07:00:00  0.091439     0.198279     6047.0\n2018-07-24 08:00:00  0.071268     0.218217     2444.0",
      "text/html": "<div>\n<style scoped>\n    .dataframe tbody tr th:only-of-type {\n        vertical-align: middle;\n    }\n\n    .dataframe tbody tr th {\n        vertical-align: top;\n    }\n\n    .dataframe thead th {\n        text-align: right;\n    }\n</style>\n<table border=\"1\" class=\"dataframe\">\n  <thead>\n    <tr style=\"text-align: right;\">\n      <th></th>\n      <th>polarity</th>\n      <th>sensitivity</th>\n      <th>Tweet_vol</th>\n    </tr>\n    <tr>\n      <th>DateTime</th>\n      <th></th>\n      <th></th>\n      <th></th>\n    </tr>\n  </thead>\n  <tbody>\n    <tr>\n      <th>2018-07-24 04:00:00</th>\n      <td>0.121358</td>\n      <td>0.236000</td>\n      <td>4475.0</td>\n    </tr>\n    <tr>\n      <th>2018-07-24 05:00:00</th>\n      <td>0.095163</td>\n      <td>0.216924</td>\n      <td>4808.0</td>\n    </tr>\n    <tr>\n      <th>2018-07-24 06:00:00</th>\n      <td>0.088992</td>\n      <td>0.220173</td>\n      <td>6036.0</td>\n    </tr>\n    <tr>\n      <th>2018-07-24 07:00:00</th>\n      <td>0.091439</td>\n      <td>0.198279</td>\n      <td>6047.0</td>\n    </tr>\n    <tr>\n      <th>2018-07-24 08:00:00</th>\n      <td>0.071268</td>\n      <td>0.218217</td>\n      <td>2444.0</td>\n    </tr>\n  </tbody>\n</table>\n</div>"
     },
     "execution_count": 27,
     "metadata": {},
     "output_type": "execute_result"
    }
   ],
   "source": [
    "tweet_df.tail()"
   ],
   "metadata": {
    "collapsed": false,
    "pycharm": {
     "name": "#%%\n"
    }
   }
  },
  {
   "cell_type": "code",
   "execution_count": 30,
   "outputs": [
    {
     "name": "stderr",
     "output_type": "stream",
     "text": [
      "<ipython-input-30-950e4a96d7e9>:1: FutureWarning: The error_bad_lines argument has been deprecated and will be removed in a future version. Use on_bad_lines in the future.\n",
      "\n",
      "\n",
      "  btc_pricing = pd.read_csv('Dataset/btcSave2.csv', error_bad_lines=False, engine= 'python')\n"
     ]
    }
   ],
   "source": [
    "btc_pricing = pd.read_csv('Dataset/btcSave2.csv', error_bad_lines=False, engine= 'python')"
   ],
   "metadata": {
    "collapsed": false,
    "pycharm": {
     "name": "#%%\n"
    }
   }
  },
  {
   "cell_type": "code",
   "execution_count": 31,
   "outputs": [],
   "source": [
    "btc_pricing['Timestamp'] = pd.to_datetime(btc_pricing['Timestamp'])\n",
    "btc_pricing= btc_pricing.set_index(pd.DatetimeIndex(btc_pricing['Timestamp']))"
   ],
   "metadata": {
    "collapsed": false,
    "pycharm": {
     "name": "#%%\n"
    }
   }
  },
  {
   "cell_type": "code",
   "execution_count": 32,
   "outputs": [
    {
     "data": {
      "text/plain": "                              Timestamp     Open     High      Low    Close  \\\nTimestamp                                                                     \n2018-07-10 01:00:00 2018-07-10 01:00:00  6666.75  6683.90  6635.59  6669.73   \n2018-07-10 02:00:00 2018-07-10 02:00:00  6662.44  6674.60  6647.00  6647.00   \n2018-07-10 03:00:00 2018-07-10 03:00:00  6652.52  6662.82  6621.99  6632.53   \n2018-07-10 04:00:00 2018-07-10 04:00:00  6631.17  6655.48  6625.54  6635.92   \n2018-07-10 05:00:00 2018-07-10 05:00:00  6632.81  6651.06  6627.64  6640.57   \n\n                     Volume (BTC)  Volume (Currency)  Weighted Price  \nTimestamp                                                             \n2018-07-10 01:00:00        281.73         1875693.72         6657.70  \n2018-07-10 02:00:00        174.10         1160103.29         6663.38  \n2018-07-10 03:00:00        231.41         1536936.22         6641.70  \n2018-07-10 04:00:00        120.38          799154.77         6638.52  \n2018-07-10 05:00:00         94.00          624289.31         6641.32  ",
      "text/html": "<div>\n<style scoped>\n    .dataframe tbody tr th:only-of-type {\n        vertical-align: middle;\n    }\n\n    .dataframe tbody tr th {\n        vertical-align: top;\n    }\n\n    .dataframe thead th {\n        text-align: right;\n    }\n</style>\n<table border=\"1\" class=\"dataframe\">\n  <thead>\n    <tr style=\"text-align: right;\">\n      <th></th>\n      <th>Timestamp</th>\n      <th>Open</th>\n      <th>High</th>\n      <th>Low</th>\n      <th>Close</th>\n      <th>Volume (BTC)</th>\n      <th>Volume (Currency)</th>\n      <th>Weighted Price</th>\n    </tr>\n    <tr>\n      <th>Timestamp</th>\n      <th></th>\n      <th></th>\n      <th></th>\n      <th></th>\n      <th></th>\n      <th></th>\n      <th></th>\n      <th></th>\n    </tr>\n  </thead>\n  <tbody>\n    <tr>\n      <th>2018-07-10 01:00:00</th>\n      <td>2018-07-10 01:00:00</td>\n      <td>6666.75</td>\n      <td>6683.90</td>\n      <td>6635.59</td>\n      <td>6669.73</td>\n      <td>281.73</td>\n      <td>1875693.72</td>\n      <td>6657.70</td>\n    </tr>\n    <tr>\n      <th>2018-07-10 02:00:00</th>\n      <td>2018-07-10 02:00:00</td>\n      <td>6662.44</td>\n      <td>6674.60</td>\n      <td>6647.00</td>\n      <td>6647.00</td>\n      <td>174.10</td>\n      <td>1160103.29</td>\n      <td>6663.38</td>\n    </tr>\n    <tr>\n      <th>2018-07-10 03:00:00</th>\n      <td>2018-07-10 03:00:00</td>\n      <td>6652.52</td>\n      <td>6662.82</td>\n      <td>6621.99</td>\n      <td>6632.53</td>\n      <td>231.41</td>\n      <td>1536936.22</td>\n      <td>6641.70</td>\n    </tr>\n    <tr>\n      <th>2018-07-10 04:00:00</th>\n      <td>2018-07-10 04:00:00</td>\n      <td>6631.17</td>\n      <td>6655.48</td>\n      <td>6625.54</td>\n      <td>6635.92</td>\n      <td>120.38</td>\n      <td>799154.77</td>\n      <td>6638.52</td>\n    </tr>\n    <tr>\n      <th>2018-07-10 05:00:00</th>\n      <td>2018-07-10 05:00:00</td>\n      <td>6632.81</td>\n      <td>6651.06</td>\n      <td>6627.64</td>\n      <td>6640.57</td>\n      <td>94.00</td>\n      <td>624289.31</td>\n      <td>6641.32</td>\n    </tr>\n  </tbody>\n</table>\n</div>"
     },
     "execution_count": 32,
     "metadata": {},
     "output_type": "execute_result"
    }
   ],
   "source": [
    "btc_pricing.head()"
   ],
   "metadata": {
    "collapsed": false,
    "pycharm": {
     "name": "#%%\n"
    }
   }
  },
  {
   "cell_type": "code",
   "execution_count": 33,
   "outputs": [
    {
     "data": {
      "text/plain": "                        Open     High      Low    Close  Volume (BTC)  \\\nTimestamp                                                               \n2018-07-10 01:00:00  6666.75  6683.90  6635.59  6669.73        281.73   \n2018-07-10 02:00:00  6662.44  6674.60  6647.00  6647.00        174.10   \n2018-07-10 03:00:00  6652.52  6662.82  6621.99  6632.53        231.41   \n2018-07-10 04:00:00  6631.17  6655.48  6625.54  6635.92        120.38   \n2018-07-10 05:00:00  6632.81  6651.06  6627.64  6640.57         94.00   \n...                      ...      ...      ...      ...           ...   \n2018-07-23 21:00:00  7746.99  7763.59  7690.16  7706.00        237.63   \n2018-07-23 22:00:00  7699.13  7759.99  7690.50  7750.09         63.31   \n2018-07-23 23:00:00  7754.57  7777.00  7715.45  7722.32        280.46   \n2018-07-24 00:00:00  7722.95  7730.61  7690.17  7719.62        496.48   \n2018-07-24 01:00:00  7712.46  7727.70  7691.14  7723.22        163.99   \n\n                     Volume (Currency)  Weighted Price  \nTimestamp                                               \n2018-07-10 01:00:00         1875693.72         6657.70  \n2018-07-10 02:00:00         1160103.29         6663.38  \n2018-07-10 03:00:00         1536936.22         6641.70  \n2018-07-10 04:00:00          799154.77         6638.52  \n2018-07-10 05:00:00          624289.31         6641.32  \n...                                ...             ...  \n2018-07-23 21:00:00         1836633.86         7729.06  \n2018-07-23 22:00:00          489000.25         7724.30  \n2018-07-23 23:00:00         2173424.81         7749.63  \n2018-07-24 00:00:00         3830571.66         7715.44  \n2018-07-24 01:00:00         1264085.79         7708.50  \n\n[337 rows x 7 columns]",
      "text/html": "<div>\n<style scoped>\n    .dataframe tbody tr th:only-of-type {\n        vertical-align: middle;\n    }\n\n    .dataframe tbody tr th {\n        vertical-align: top;\n    }\n\n    .dataframe thead th {\n        text-align: right;\n    }\n</style>\n<table border=\"1\" class=\"dataframe\">\n  <thead>\n    <tr style=\"text-align: right;\">\n      <th></th>\n      <th>Open</th>\n      <th>High</th>\n      <th>Low</th>\n      <th>Close</th>\n      <th>Volume (BTC)</th>\n      <th>Volume (Currency)</th>\n      <th>Weighted Price</th>\n    </tr>\n    <tr>\n      <th>Timestamp</th>\n      <th></th>\n      <th></th>\n      <th></th>\n      <th></th>\n      <th></th>\n      <th></th>\n      <th></th>\n    </tr>\n  </thead>\n  <tbody>\n    <tr>\n      <th>2018-07-10 01:00:00</th>\n      <td>6666.75</td>\n      <td>6683.90</td>\n      <td>6635.59</td>\n      <td>6669.73</td>\n      <td>281.73</td>\n      <td>1875693.72</td>\n      <td>6657.70</td>\n    </tr>\n    <tr>\n      <th>2018-07-10 02:00:00</th>\n      <td>6662.44</td>\n      <td>6674.60</td>\n      <td>6647.00</td>\n      <td>6647.00</td>\n      <td>174.10</td>\n      <td>1160103.29</td>\n      <td>6663.38</td>\n    </tr>\n    <tr>\n      <th>2018-07-10 03:00:00</th>\n      <td>6652.52</td>\n      <td>6662.82</td>\n      <td>6621.99</td>\n      <td>6632.53</td>\n      <td>231.41</td>\n      <td>1536936.22</td>\n      <td>6641.70</td>\n    </tr>\n    <tr>\n      <th>2018-07-10 04:00:00</th>\n      <td>6631.17</td>\n      <td>6655.48</td>\n      <td>6625.54</td>\n      <td>6635.92</td>\n      <td>120.38</td>\n      <td>799154.77</td>\n      <td>6638.52</td>\n    </tr>\n    <tr>\n      <th>2018-07-10 05:00:00</th>\n      <td>6632.81</td>\n      <td>6651.06</td>\n      <td>6627.64</td>\n      <td>6640.57</td>\n      <td>94.00</td>\n      <td>624289.31</td>\n      <td>6641.32</td>\n    </tr>\n    <tr>\n      <th>...</th>\n      <td>...</td>\n      <td>...</td>\n      <td>...</td>\n      <td>...</td>\n      <td>...</td>\n      <td>...</td>\n      <td>...</td>\n    </tr>\n    <tr>\n      <th>2018-07-23 21:00:00</th>\n      <td>7746.99</td>\n      <td>7763.59</td>\n      <td>7690.16</td>\n      <td>7706.00</td>\n      <td>237.63</td>\n      <td>1836633.86</td>\n      <td>7729.06</td>\n    </tr>\n    <tr>\n      <th>2018-07-23 22:00:00</th>\n      <td>7699.13</td>\n      <td>7759.99</td>\n      <td>7690.50</td>\n      <td>7750.09</td>\n      <td>63.31</td>\n      <td>489000.25</td>\n      <td>7724.30</td>\n    </tr>\n    <tr>\n      <th>2018-07-23 23:00:00</th>\n      <td>7754.57</td>\n      <td>7777.00</td>\n      <td>7715.45</td>\n      <td>7722.32</td>\n      <td>280.46</td>\n      <td>2173424.81</td>\n      <td>7749.63</td>\n    </tr>\n    <tr>\n      <th>2018-07-24 00:00:00</th>\n      <td>7722.95</td>\n      <td>7730.61</td>\n      <td>7690.17</td>\n      <td>7719.62</td>\n      <td>496.48</td>\n      <td>3830571.66</td>\n      <td>7715.44</td>\n    </tr>\n    <tr>\n      <th>2018-07-24 01:00:00</th>\n      <td>7712.46</td>\n      <td>7727.70</td>\n      <td>7691.14</td>\n      <td>7723.22</td>\n      <td>163.99</td>\n      <td>1264085.79</td>\n      <td>7708.50</td>\n    </tr>\n  </tbody>\n</table>\n<p>337 rows × 7 columns</p>\n</div>"
     },
     "execution_count": 33,
     "metadata": {},
     "output_type": "execute_result"
    }
   ],
   "source": [
    "btc_pricing.drop(['Timestamp'], axis=1)"
   ],
   "metadata": {
    "collapsed": false,
    "pycharm": {
     "name": "#%%\n"
    }
   }
  },
  {
   "cell_type": "code",
   "execution_count": 34,
   "outputs": [],
   "source": [
    "Final_btc_pricing = pd.merge(tweet_df, btc_pricing, how='inner', left_index=True, right_index=True)"
   ],
   "metadata": {
    "collapsed": false,
    "pycharm": {
     "name": "#%%\n"
    }
   }
  },
  {
   "cell_type": "code",
   "execution_count": 35,
   "outputs": [
    {
     "name": "stdout",
     "output_type": "stream",
     "text": [
      "<class 'pandas.core.frame.DataFrame'>\n",
      "DatetimeIndex: 294 entries, 2018-07-11 20:00:00 to 2018-07-24 01:00:00\n",
      "Data columns (total 11 columns):\n",
      " #   Column             Non-Null Count  Dtype         \n",
      "---  ------             --------------  -----         \n",
      " 0   polarity           294 non-null    float64       \n",
      " 1   sensitivity        294 non-null    float64       \n",
      " 2   Tweet_vol          294 non-null    float64       \n",
      " 3   Timestamp          294 non-null    datetime64[ns]\n",
      " 4   Open               294 non-null    float64       \n",
      " 5   High               294 non-null    float64       \n",
      " 6   Low                294 non-null    float64       \n",
      " 7   Close              294 non-null    float64       \n",
      " 8   Volume (BTC)       294 non-null    float64       \n",
      " 9   Volume (Currency)  294 non-null    float64       \n",
      " 10  Weighted Price     294 non-null    float64       \n",
      "dtypes: datetime64[ns](1), float64(10)\n",
      "memory usage: 27.6 KB\n"
     ]
    }
   ],
   "source": [
    "Final_btc_pricing.info()"
   ],
   "metadata": {
    "collapsed": false,
    "pycharm": {
     "name": "#%%\n"
    }
   }
  },
  {
   "cell_type": "code",
   "execution_count": null,
   "outputs": [],
   "source": [],
   "metadata": {
    "collapsed": false,
    "pycharm": {
     "name": "#%%\n"
    }
   }
  }
 ],
 "metadata": {
  "kernelspec": {
   "display_name": "Python 3",
   "language": "python",
   "name": "python3"
  },
  "language_info": {
   "codemirror_mode": {
    "name": "ipython",
    "version": 2
   },
   "file_extension": ".py",
   "mimetype": "text/x-python",
   "name": "python",
   "nbconvert_exporter": "python",
   "pygments_lexer": "ipython2",
   "version": "2.7.6"
  }
 },
 "nbformat": 4,
 "nbformat_minor": 0
}